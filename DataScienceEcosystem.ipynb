{
 "cells": [
  {
   "cell_type": "markdown",
   "id": "9c925006",
   "metadata": {},
   "source": [
    "# Data Science Tools and EcoSystem"
   ]
  },
  {
   "cell_type": "markdown",
   "id": "81faa3e1",
   "metadata": {},
   "source": [
    "#### In this notebook, Data Science Tools and Ecosystem are summarized."
   ]
  },
  {
   "cell_type": "markdown",
   "id": "90ea350b",
   "metadata": {},
   "source": [
    "**Some of the popular languages that Data Scientists use are:**\n",
    "1. python\n",
    "2. scala\n",
    "3. r-programming\n",
    "4. java\n",
    "5. SQL\n",
    "6. julia"
   ]
  },
  {
   "cell_type": "markdown",
   "id": "0ac1f25a",
   "metadata": {},
   "source": [
    "**Some of the commonly used libraries used by Data Scientists include:**\n",
    "1. Numpy\n",
    "2. Matplotlib\n",
    "3. pandas\n",
    "4. scikit-learn\n",
    "5. pytorch"
   ]
  },
  {
   "cell_type": "markdown",
   "id": "ef2e049b",
   "metadata": {},
   "source": [
    "|Datascience tools|\n",
    "|-----------------|\n",
    "|hadoop|\n",
    "|Apache spark|\n",
    "|rdbms|\n",
    "|nosql|"
   ]
  },
  {
   "cell_type": "markdown",
   "id": "12021df6",
   "metadata": {},
   "source": [
    "### Below are a few examples of evaluating arithmetic expressions in Python\n"
   ]
  },
  {
   "cell_type": "code",
   "execution_count": 1,
   "id": "6f357298",
   "metadata": {},
   "outputs": [
    {
     "data": {
      "text/plain": [
       "17"
      ]
     },
     "execution_count": 1,
     "metadata": {},
     "output_type": "execute_result"
    }
   ],
   "source": [
    "#This a simple arithmetic expression to mutiply then add integers\n",
    "(3*4)+5"
   ]
  },
  {
   "cell_type": "code",
   "execution_count": 2,
   "id": "6ded673f",
   "metadata": {},
   "outputs": [
    {
     "name": "stdout",
     "output_type": "stream",
     "text": [
      "3.3333333333333335 hours\n"
     ]
    }
   ],
   "source": [
    "#This will convert 200 minutes to hours by diving by 60\n",
    "x=200\n",
    "a=x/60\n",
    "print(a,\"hours\")\n"
   ]
  },
  {
   "cell_type": "markdown",
   "id": "4fe59049",
   "metadata": {},
   "source": [
    "**Objectives:**\n",
    "* arithmetic operations\n",
    "* use of markdown ad code cell\n",
    "* what's jupyterbook\n",
    "* Uses of jupyterbook\n"
   ]
  },
  {
   "cell_type": "markdown",
   "id": "fed7c815",
   "metadata": {},
   "source": [
    "## Author\n",
    "Manovarma krishnasamy Thalaivar"
   ]
  },
  {
   "cell_type": "code",
   "execution_count": null,
   "id": "9c746a17",
   "metadata": {},
   "outputs": [],
   "source": []
  }
 ],
 "metadata": {
  "kernelspec": {
   "display_name": "Python 3 (ipykernel)",
   "language": "python",
   "name": "python3"
  },
  "language_info": {
   "codemirror_mode": {
    "name": "ipython",
    "version": 3
   },
   "file_extension": ".py",
   "mimetype": "text/x-python",
   "name": "python",
   "nbconvert_exporter": "python",
   "pygments_lexer": "ipython3",
   "version": "3.11.5"
  }
 },
 "nbformat": 4,
 "nbformat_minor": 5
}
